{
 "cells": [
  {
   "cell_type": "code",
   "execution_count": 3,
   "id": "ce2ef12f",
   "metadata": {},
   "outputs": [
    {
     "name": "stdout",
     "output_type": "stream",
     "text": [
      "[[0.         0.03906019 0.         ... 0.         0.         0.        ]\n",
      " [0.         0.         0.         ... 0.         0.         0.        ]\n",
      " [0.         0.         0.         ... 0.         0.         0.        ]\n",
      " ...\n",
      " [0.         0.04029398 0.         ... 0.         0.         0.        ]\n",
      " [0.         0.07294386 0.         ... 0.         0.         0.        ]\n",
      " [0.         0.         0.         ... 0.         0.         0.        ]]\n"
     ]
    }
   ],
   "source": [
    "from sklearn.feature_extraction.text import TfidfVectorizer\n",
    "import numpy as np\n",
    "np.set_printoptions(threshold = 1000000)\n",
    "\n",
    "files = []\n",
    "for i in range(1, 1096):\n",
    "    with open('PA1-data/' + str(i) + '.txt', mode='r', encoding='utf-8') as f:\n",
    "        file = [f.read()]\n",
    "        files += file\n",
    "\n",
    "\n",
    "vectorizer = TfidfVectorizer(lowercase=True, stop_words='english')\n",
    "vectors = vectorizer.fit_transform(files)\n",
    "vectors_np = np.array(vectors.toarray())\n",
    "print(vectors_np)"
   ]
  },
  {
   "cell_type": "code",
   "execution_count": null,
   "id": "15398d16",
   "metadata": {},
   "outputs": [],
   "source": [
    "for i in range(1, 1096):\n",
    "    np.savetxt('PA1-answer/' + str(i) + '.vec', vectors_np[i - 1], encoding='utf-8')"
   ]
  }
 ],
 "metadata": {
  "kernelspec": {
   "display_name": "Python 3 (ipykernel)",
   "language": "python",
   "name": "python3"
  },
  "language_info": {
   "codemirror_mode": {
    "name": "ipython",
    "version": 3
   },
   "file_extension": ".py",
   "mimetype": "text/x-python",
   "name": "python",
   "nbconvert_exporter": "python",
   "pygments_lexer": "ipython3",
   "version": "3.9.12"
  }
 },
 "nbformat": 4,
 "nbformat_minor": 5
}
